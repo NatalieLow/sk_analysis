{
 "cells": [
  {
   "cell_type": "code",
   "execution_count": 1,
   "metadata": {},
   "outputs": [],
   "source": [
    "#Build a web scraper to pull all comments for each recipe on https://smittenkitchen.com/\n",
    "#Export scrapped data as a .csv\n",
    "from bs4 import BeautifulSoup\n",
    "import urllib.request\n",
    "import re\n",
    "import numpy as np"
   ]
  },
  {
   "cell_type": "code",
   "execution_count": 2,
   "metadata": {},
   "outputs": [],
   "source": [
    "#smitten kitchen recipe index\n",
    "sk_recipes_url = 'https://smittenkitchen.com/recipes/'\n",
    "\n",
    "sk_index_html = urllib.request.urlopen(sk_recipes_url)\n",
    "soup = BeautifulSoup(sk_index_html, 'html.parser')"
   ]
  },
  {
   "cell_type": "code",
   "execution_count": 3,
   "metadata": {},
   "outputs": [],
   "source": [
    "#pull category html from index page\n",
    "categories = soup.find_all(\"a\", attrs={'href': re.compile(\"^https://smittenkitchen.com/recipes\")})"
   ]
  },
  {
   "cell_type": "code",
   "execution_count": 4,
   "metadata": {},
   "outputs": [],
   "source": [
    "num_categories = len(categories)\n",
    "category_urls = []\n",
    "temp_cat = 0\n",
    "\n",
    "recipe_urls = []\n",
    "\n",
    "for i in range(0, num_categories):\n",
    "    #build list of each category url\n",
    "    temp_cat = categories[i]\n",
    "    temp_cat_url = temp_cat.get('href')\n",
    "    category_urls += [temp_cat_url] \n",
    "    \n",
    "    \n",
    "    category_html = urllib.request.urlopen(temp_cat_url)\n",
    "    soup_category = BeautifulSoup(category_html, 'html.parser')\n",
    "    \n",
    "    #build list of all the recipe urls per category\n",
    "    recipes = soup_category.find_all(\"a\", attrs={'rel': re.compile(\"^bookmark\")})\n",
    "    \n",
    "    for j in range(0, len(recipes) - 1):\n",
    "        \n",
    "        recipe_url = recipes[j].get('href')\n",
    "        \n",
    "        if recipe_url not in recipe_urls:\n",
    "            recipe_urls += [recipe_url]"
   ]
  },
  {
   "cell_type": "code",
   "execution_count": 5,
   "metadata": {},
   "outputs": [
    {
     "data": {
      "text/plain": [
       "1155"
      ]
     },
     "execution_count": 5,
     "metadata": {},
     "output_type": "execute_result"
    }
   ],
   "source": [
    "len(recipe_urls)"
   ]
  },
  {
   "cell_type": "code",
   "execution_count": 6,
   "metadata": {},
   "outputs": [],
   "source": [
    "#create list of all comments with indexing mapped to recipe url's\n",
    "\n",
    "recipe_comment = \"\"\n",
    "all_comments = {}\n",
    "# all_comments = [\"\"] * len_recipe_urls\n",
    "len_recipe_urls = len(recipe_urls)\n",
    "\n",
    "\n",
    "for i in range(0, len_recipe_urls - 1):\n",
    "    sk_recipe_html = urllib.request.urlopen(recipe_urls[i]) \n",
    "    soup_recipe = BeautifulSoup(sk_recipe_html, 'html.parser')\n",
    "\n",
    "    #create a list of all comments with the recipe index i\n",
    "    comments = soup_recipe.find_all(class_=re.compile(\"comment-content\"))\n",
    "    all_recipe_comments = {}\n",
    "    \n",
    "    for j in range(0, len(comments) - 1):\n",
    "        recipe_comment = comments[j].get_text()\n",
    "        all_recipe_comments[j] = recipe_comment\n",
    "   \n",
    "    all_comments[i] = all_recipe_comments"
   ]
  },
  {
   "cell_type": "code",
   "execution_count": null,
   "metadata": {},
   "outputs": [],
   "source": [
    "len(all_comments[278])"
   ]
  },
  {
   "cell_type": "code",
   "execution_count": null,
   "metadata": {},
   "outputs": [],
   "source": [
    "len_comments = []\n",
    "for i in range(0, len(all_comments)):\n",
    "    len_comments_per_recipe = len(all_comments[i])\n",
    "    len_comments.append(len_comments_per_recipe)\n",
    "    \n",
    "print(len(all_comments[700]))\n",
    "recipe_urls[700]\n",
    "all_comments[700]"
   ]
  },
  {
   "cell_type": "code",
   "execution_count": null,
   "metadata": {},
   "outputs": [],
   "source": [
    "np.savetxt(\"sk_comments.csv\", all_comments, delimiter=\",\", fmt=\"%s\")"
   ]
  }
 ],
 "metadata": {
  "kernelspec": {
   "display_name": "Python 3",
   "language": "python",
   "name": "python3"
  },
  "language_info": {
   "codemirror_mode": {
    "name": "ipython",
    "version": 3
   },
   "file_extension": ".py",
   "mimetype": "text/x-python",
   "name": "python",
   "nbconvert_exporter": "python",
   "pygments_lexer": "ipython3",
   "version": "3.6.4"
  }
 },
 "nbformat": 4,
 "nbformat_minor": 1
}
